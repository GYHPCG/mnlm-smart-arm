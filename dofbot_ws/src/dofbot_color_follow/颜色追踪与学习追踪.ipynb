{
 "cells": [
  {
   "cell_type": "markdown",
   "metadata": {},
   "source": [
    "# 颜色跟踪与学习跟踪玩法"
   ]
  },
  {
   "cell_type": "markdown",
   "metadata": {},
   "source": [
    "### 导入头文件"
   ]
  },
  {
   "cell_type": "code",
   "execution_count": 1,
   "metadata": {},
   "outputs": [],
   "source": [
    "import cv2 as cv\n",
    "import threading\n",
    "import random\n",
    "from time import sleep\n",
    "import ipywidgets as widgets\n",
    "from IPython.display import display\n",
    "from color_follow import color_follow"
   ]
  },
  {
   "cell_type": "markdown",
   "metadata": {},
   "source": [
    "### 初始化机械臂位置"
   ]
  },
  {
   "cell_type": "code",
   "execution_count": 2,
   "metadata": {},
   "outputs": [],
   "source": [
    "import Arm_Lib\n",
    "Arm = Arm_Lib.Arm_Device()\n",
    "joints_0 = [90, 135, 20, 25, 90, 30]\n",
    "Arm.Arm_serial_servo_write6_array(joints_0, 1000)"
   ]
  },
  {
   "cell_type": "markdown",
   "metadata": {},
   "source": [
    "### 创建实例,初始化参数"
   ]
  },
  {
   "cell_type": "code",
   "execution_count": 3,
   "metadata": {},
   "outputs": [
    {
     "name": "stdout",
     "output_type": "stream",
     "text": [
      "Read HSV_config Error !!!\n"
     ]
    }
   ],
   "source": [
    "follow = color_follow()\n",
    "# 初始化模式\n",
    "model = 'General'\n",
    "# 初始化HSV_learning值\n",
    "HSV_learning = ()\n",
    "# 初始化HSV值\n",
    "color_hsv = {\"red\": ((0, 25, 90), (10, 255, 255)),\n",
    "             \"green\": ((53, 36, 40), (80, 255, 255)),\n",
    "             \"blue\": ((110, 80, 90), (120, 255, 255)),\n",
    "             \"yellow\": ((25, 20, 55), (50, 255, 255))}\n",
    "# 设置随机颜色\n",
    "color = [[random.randint(0, 255) for _ in range(3)] for _ in range(255)]\n",
    "# HSV参数路径\n",
    "HSV_path=\"/home/dofbot/dofbot_ws/src/dofbot_color_follow/HSV_config.txt\"\n",
    "try: read_HSV(HSV_path,color_hsv)\n",
    "except Exception: print(\"Read HSV_config Error !!!\")"
   ]
  },
  {
   "cell_type": "markdown",
   "metadata": {},
   "source": [
    "### 创建控件"
   ]
  },
  {
   "cell_type": "code",
   "execution_count": 4,
   "metadata": {},
   "outputs": [],
   "source": [
    "button_layout = widgets.Layout(width='200px', height='100px', align_self='center')\n",
    "# 输出控件\n",
    "output = widgets.Output()\n",
    "# 颜色追踪\n",
    "color_follow = widgets.Button(description='color_follow', button_style='success', layout=button_layout)\n",
    "# 选择颜色\n",
    "choose_color = widgets.ToggleButtons(options=['red', 'green', 'blue', 'yellow'], button_style='success',\n",
    "             tooltips=['Description of slow', 'Description of regular', 'Description of fast'])\n",
    "# 取消追踪\n",
    "follow_cancel = widgets.Button(description='follow_cancel', button_style='danger', layout=button_layout)\n",
    "# 学习颜色\n",
    "learning_color = widgets.Button(description='learning_color', button_style='primary', layout=button_layout)\n",
    "# 学习颜色追踪\n",
    "learning_follow = widgets.Button(description='learning_follow', button_style='success', layout=button_layout)\n",
    "# 退出\n",
    "exit_button = widgets.Button(description='Exit', button_style='danger', layout=button_layout)\n",
    "# 图像控件\n",
    "imgbox = widgets.Image(format='jpg', height=480, width=640, layout=widgets.Layout(align_self='auto'))\n",
    "# 垂直布局\n",
    "img_box = widgets.VBox([imgbox, choose_color], layout=widgets.Layout(align_self='auto'))\n",
    "# 垂直布局\n",
    "Slider_box = widgets.VBox([color_follow, learning_color, learning_follow,follow_cancel,exit_button],\n",
    "                          layout=widgets.Layout(align_self='auto'))\n",
    "# 水平布局\n",
    "controls_box = widgets.HBox([img_box, Slider_box], layout=widgets.Layout(align_self='auto'))\n",
    "# ['auto', 'flex-start', 'flex-end', 'center', 'baseline', 'stretch', 'inherit', 'initial', 'unset']"
   ]
  },
  {
   "cell_type": "markdown",
   "metadata": {},
   "source": [
    "### 模式切换"
   ]
  },
  {
   "cell_type": "code",
   "execution_count": 5,
   "metadata": {},
   "outputs": [],
   "source": [
    "def color_follow_Callback(value):\n",
    "    global model\n",
    "    model = 'color_follow'\n",
    "def learning_color_Callback(value):\n",
    "    global model\n",
    "    model = 'learning_color'\n",
    "def learning_follow_Callback(value):\n",
    "    global model\n",
    "    model = 'learning_follow'\n",
    "def follow_cancel_Callback(value):\n",
    "    global model\n",
    "    model = 'General'\n",
    "def exit_button_Callback(value):\n",
    "    global model\n",
    "    model = 'Exit'\n",
    "color_follow.on_click(color_follow_Callback)\n",
    "learning_color.on_click(learning_color_Callback)\n",
    "learning_follow.on_click(learning_follow_Callback)\n",
    "follow_cancel.on_click(follow_cancel_Callback)\n",
    "exit_button.on_click(exit_button_Callback)"
   ]
  },
  {
   "cell_type": "markdown",
   "metadata": {},
   "source": [
    "### 主程序"
   ]
  },
  {
   "cell_type": "code",
   "execution_count": 6,
   "metadata": {},
   "outputs": [],
   "source": [
    "def camera():\n",
    "    global HSV_learning,model\n",
    "    # 打开摄像头\n",
    "    capture = cv.VideoCapture(0)\n",
    "    capture.set(3, 640)\n",
    "    capture.set(4, 480)\n",
    "    capture.set(5, 30)  #设置帧率\n",
    "    # 当摄像头正常打开的情况下循环执行\n",
    "    while capture.isOpened():\n",
    "        try:\n",
    "            # 读取相机的每一帧\n",
    "            _, img = capture.read()\n",
    "            # 统一图像大小\n",
    "            img = cv.resize(img, (640, 480))\n",
    "            if model == 'color_follow':\n",
    "                img = follow.follow_function(img, color_hsv[choose_color.value])\n",
    "                # 添加文字\n",
    "                cv.putText(img, choose_color.value, (int(img.shape[0] / 2), 50), cv.FONT_HERSHEY_SIMPLEX, 2, color[random.randint(0, 254)], 2)\n",
    "            if model == 'learning_color':\n",
    "                img,HSV_learning = follow.get_hsv(img)\n",
    "            if model == 'learning_follow' :\n",
    "                if len(HSV_learning)!=0:\n",
    "                    print(HSV_learning)\n",
    "                    img = follow.learning_follow(img, HSV_learning)\n",
    "                    # 添加文字\n",
    "                    cv.putText(img,'LeColor', (240, 50), cv.FONT_HERSHEY_SIMPLEX, 1, color[random.randint(0, 254)], 1)\n",
    "            if model == 'Exit':\n",
    "                cv.destroyAllWindows()\n",
    "                capture.release()\n",
    "                break\n",
    "            imgbox.value = cv.imencode('.jpg', img)[1].tobytes()\n",
    "        except KeyboardInterrupt:capture.release()"
   ]
  },
  {
   "cell_type": "markdown",
   "metadata": {},
   "source": [
    "### 启动"
   ]
  },
  {
   "cell_type": "code",
   "execution_count": 7,
   "metadata": {},
   "outputs": [
    {
     "data": {
      "application/vnd.jupyter.widget-view+json": {
       "model_id": "345f4e32a46c46f4bf8eb30a3ce607b6",
       "version_major": 2,
       "version_minor": 0
      },
      "text/plain": [
       "HBox(children=(VBox(children=(Image(value=b'', format='jpg', height='480', layout=\"Layout(align_self='auto')\",…"
      ]
     },
     "metadata": {},
     "output_type": "display_data"
    },
    {
     "data": {
      "application/vnd.jupyter.widget-view+json": {
       "model_id": "56fe8dc529894288a5f9ac2dab409421",
       "version_major": 2,
       "version_minor": 0
      },
      "text/plain": [
       "Output()"
      ]
     },
     "metadata": {},
     "output_type": "display_data"
    }
   ],
   "source": [
    "display(controls_box,output)\n",
    "threading.Thread(target=camera, ).start()"
   ]
  },
  {
   "cell_type": "markdown",
   "metadata": {},
   "source": [
    "##### "
   ]
  }
 ],
 "metadata": {
  "kernelspec": {
   "display_name": "Python 3 (ipykernel)",
   "language": "python",
   "name": "python3"
  },
  "language_info": {
   "codemirror_mode": {
    "name": "ipython",
    "version": 3
   },
   "file_extension": ".py",
   "mimetype": "text/x-python",
   "name": "python",
   "nbconvert_exporter": "python",
   "pygments_lexer": "ipython3",
   "version": "3.8.10"
  }
 },
 "nbformat": 4,
 "nbformat_minor": 4
}
