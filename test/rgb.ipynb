{
 "cells": [
  {
   "cell_type": "code",
   "execution_count": 5,
   "id": "f0ded393-3c21-4fed-be5e-bed9919a253f",
   "metadata": {},
   "outputs": [
    {
     "name": "stdout",
     "output_type": "stream",
     "text": [
      " END OF LINE! \n"
     ]
    }
   ],
   "source": [
    "import time\n",
    "from Arm_Lib import Arm_Device\n",
    "\n",
    "# 获取机械臂的对象\n",
    "Arm = Arm_Device()\n",
    "time.sleep(.1)\n",
    "\n",
    "def rgb_control(r,g,b):\n",
    "    # Arm.Arm_RGB_set(50, 0, 0) #RGB亮红灯\n",
    "    time.sleep(.5)\n",
    "    # Arm.Arm_RGB_set(0, 50, 0) #RGB亮绿灯\n",
    "    # time.sleep(.5)\n",
    "    # Arm.Arm_RGB_set(0, 0, 50) #RGB亮蓝灯\n",
    "    \n",
    "    Arm.Arm_RGB_set(r, g, b)\n",
    "    time.sleep(.5)\n",
    "    print(\" END OF LINE! \")\n",
    "\n",
    "rgb_control(0,0,255)"
   ]
  },
  {
   "cell_type": "code",
   "execution_count": null,
   "id": "2a814b45-fc2b-42a7-abf9-f1ff2f933ae3",
   "metadata": {},
   "outputs": [],
   "source": []
  }
 ],
 "metadata": {
  "kernelspec": {
   "display_name": "Python 3 (ipykernel)",
   "language": "python",
   "name": "python3"
  },
  "language_info": {
   "codemirror_mode": {
    "name": "ipython",
    "version": 3
   },
   "file_extension": ".py",
   "mimetype": "text/x-python",
   "name": "python",
   "nbconvert_exporter": "python",
   "pygments_lexer": "ipython3",
   "version": "3.8.10"
  }
 },
 "nbformat": 4,
 "nbformat_minor": 5
}
