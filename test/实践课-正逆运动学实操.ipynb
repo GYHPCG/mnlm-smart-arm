{
 "cells": [
  {
   "cell_type": "code",
   "execution_count": 1,
   "id": "7a3375bd",
   "metadata": {},
   "outputs": [
    {
     "ename": "ImportError",
     "evalue": "Cannot load backend 'Qt5Agg' which requires the 'qt5' interactive framework, as 'headless' is currently running",
     "output_type": "error",
     "traceback": [
      "\u001b[0;31m---------------------------------------------------------------------------\u001b[0m",
      "\u001b[0;31mImportError\u001b[0m                               Traceback (most recent call last)",
      "\u001b[0;32m<ipython-input-1-325c2f98aa22>\u001b[0m in \u001b[0;36m<module>\u001b[0;34m\u001b[0m\n\u001b[0;32m----> 1\u001b[0;31m \u001b[0mget_ipython\u001b[0m\u001b[0;34m(\u001b[0m\u001b[0;34m)\u001b[0m\u001b[0;34m.\u001b[0m\u001b[0mrun_line_magic\u001b[0m\u001b[0;34m(\u001b[0m\u001b[0;34m'matplotlib'\u001b[0m\u001b[0;34m,\u001b[0m \u001b[0;34m'qt'\u001b[0m\u001b[0;34m)\u001b[0m\u001b[0;34m\u001b[0m\u001b[0;34m\u001b[0m\u001b[0m\n\u001b[0m",
      "\u001b[0;32m/usr/local/lib/python3.8/dist-packages/IPython/core/interactiveshell.py\u001b[0m in \u001b[0;36mrun_line_magic\u001b[0;34m(self, magic_name, line, _stack_depth)\u001b[0m\n\u001b[1;32m   2324\u001b[0m                 \u001b[0mkwargs\u001b[0m\u001b[0;34m[\u001b[0m\u001b[0;34m'local_ns'\u001b[0m\u001b[0;34m]\u001b[0m \u001b[0;34m=\u001b[0m \u001b[0mself\u001b[0m\u001b[0;34m.\u001b[0m\u001b[0mget_local_scope\u001b[0m\u001b[0;34m(\u001b[0m\u001b[0mstack_depth\u001b[0m\u001b[0;34m)\u001b[0m\u001b[0;34m\u001b[0m\u001b[0;34m\u001b[0m\u001b[0m\n\u001b[1;32m   2325\u001b[0m             \u001b[0;32mwith\u001b[0m \u001b[0mself\u001b[0m\u001b[0;34m.\u001b[0m\u001b[0mbuiltin_trap\u001b[0m\u001b[0;34m:\u001b[0m\u001b[0;34m\u001b[0m\u001b[0;34m\u001b[0m\u001b[0m\n\u001b[0;32m-> 2326\u001b[0;31m                 \u001b[0mresult\u001b[0m \u001b[0;34m=\u001b[0m \u001b[0mfn\u001b[0m\u001b[0;34m(\u001b[0m\u001b[0;34m*\u001b[0m\u001b[0margs\u001b[0m\u001b[0;34m,\u001b[0m \u001b[0;34m**\u001b[0m\u001b[0mkwargs\u001b[0m\u001b[0;34m)\u001b[0m\u001b[0;34m\u001b[0m\u001b[0;34m\u001b[0m\u001b[0m\n\u001b[0m\u001b[1;32m   2327\u001b[0m             \u001b[0;32mreturn\u001b[0m \u001b[0mresult\u001b[0m\u001b[0;34m\u001b[0m\u001b[0;34m\u001b[0m\u001b[0m\n\u001b[1;32m   2328\u001b[0m \u001b[0;34m\u001b[0m\u001b[0m\n",
      "\u001b[0;32m<decorator-gen-101>\u001b[0m in \u001b[0;36mmatplotlib\u001b[0;34m(self, line)\u001b[0m\n",
      "\u001b[0;32m/usr/local/lib/python3.8/dist-packages/IPython/core/magic.py\u001b[0m in \u001b[0;36m<lambda>\u001b[0;34m(f, *a, **k)\u001b[0m\n\u001b[1;32m    185\u001b[0m     \u001b[0;31m# but it's overkill for just that one bit of state.\u001b[0m\u001b[0;34m\u001b[0m\u001b[0;34m\u001b[0m\u001b[0;34m\u001b[0m\u001b[0m\n\u001b[1;32m    186\u001b[0m     \u001b[0;32mdef\u001b[0m \u001b[0mmagic_deco\u001b[0m\u001b[0;34m(\u001b[0m\u001b[0marg\u001b[0m\u001b[0;34m)\u001b[0m\u001b[0;34m:\u001b[0m\u001b[0;34m\u001b[0m\u001b[0;34m\u001b[0m\u001b[0m\n\u001b[0;32m--> 187\u001b[0;31m         \u001b[0mcall\u001b[0m \u001b[0;34m=\u001b[0m \u001b[0;32mlambda\u001b[0m \u001b[0mf\u001b[0m\u001b[0;34m,\u001b[0m \u001b[0;34m*\u001b[0m\u001b[0ma\u001b[0m\u001b[0;34m,\u001b[0m \u001b[0;34m**\u001b[0m\u001b[0mk\u001b[0m\u001b[0;34m:\u001b[0m \u001b[0mf\u001b[0m\u001b[0;34m(\u001b[0m\u001b[0;34m*\u001b[0m\u001b[0ma\u001b[0m\u001b[0;34m,\u001b[0m \u001b[0;34m**\u001b[0m\u001b[0mk\u001b[0m\u001b[0;34m)\u001b[0m\u001b[0;34m\u001b[0m\u001b[0;34m\u001b[0m\u001b[0m\n\u001b[0m\u001b[1;32m    188\u001b[0m \u001b[0;34m\u001b[0m\u001b[0m\n\u001b[1;32m    189\u001b[0m         \u001b[0;32mif\u001b[0m \u001b[0mcallable\u001b[0m\u001b[0;34m(\u001b[0m\u001b[0marg\u001b[0m\u001b[0;34m)\u001b[0m\u001b[0;34m:\u001b[0m\u001b[0;34m\u001b[0m\u001b[0;34m\u001b[0m\u001b[0m\n",
      "\u001b[0;32m/usr/local/lib/python3.8/dist-packages/IPython/core/magics/pylab.py\u001b[0m in \u001b[0;36mmatplotlib\u001b[0;34m(self, line)\u001b[0m\n\u001b[1;32m     97\u001b[0m             \u001b[0mprint\u001b[0m\u001b[0;34m(\u001b[0m\u001b[0;34m\"Available matplotlib backends: %s\"\u001b[0m \u001b[0;34m%\u001b[0m \u001b[0mbackends_list\u001b[0m\u001b[0;34m)\u001b[0m\u001b[0;34m\u001b[0m\u001b[0;34m\u001b[0m\u001b[0m\n\u001b[1;32m     98\u001b[0m         \u001b[0;32melse\u001b[0m\u001b[0;34m:\u001b[0m\u001b[0;34m\u001b[0m\u001b[0;34m\u001b[0m\u001b[0m\n\u001b[0;32m---> 99\u001b[0;31m             \u001b[0mgui\u001b[0m\u001b[0;34m,\u001b[0m \u001b[0mbackend\u001b[0m \u001b[0;34m=\u001b[0m \u001b[0mself\u001b[0m\u001b[0;34m.\u001b[0m\u001b[0mshell\u001b[0m\u001b[0;34m.\u001b[0m\u001b[0menable_matplotlib\u001b[0m\u001b[0;34m(\u001b[0m\u001b[0margs\u001b[0m\u001b[0;34m.\u001b[0m\u001b[0mgui\u001b[0m\u001b[0;34m.\u001b[0m\u001b[0mlower\u001b[0m\u001b[0;34m(\u001b[0m\u001b[0;34m)\u001b[0m \u001b[0;32mif\u001b[0m \u001b[0misinstance\u001b[0m\u001b[0;34m(\u001b[0m\u001b[0margs\u001b[0m\u001b[0;34m.\u001b[0m\u001b[0mgui\u001b[0m\u001b[0;34m,\u001b[0m \u001b[0mstr\u001b[0m\u001b[0;34m)\u001b[0m \u001b[0;32melse\u001b[0m \u001b[0margs\u001b[0m\u001b[0;34m.\u001b[0m\u001b[0mgui\u001b[0m\u001b[0;34m)\u001b[0m\u001b[0;34m\u001b[0m\u001b[0;34m\u001b[0m\u001b[0m\n\u001b[0m\u001b[1;32m    100\u001b[0m             \u001b[0mself\u001b[0m\u001b[0;34m.\u001b[0m\u001b[0m_show_matplotlib_backend\u001b[0m\u001b[0;34m(\u001b[0m\u001b[0margs\u001b[0m\u001b[0;34m.\u001b[0m\u001b[0mgui\u001b[0m\u001b[0;34m,\u001b[0m \u001b[0mbackend\u001b[0m\u001b[0;34m)\u001b[0m\u001b[0;34m\u001b[0m\u001b[0;34m\u001b[0m\u001b[0m\n\u001b[1;32m    101\u001b[0m \u001b[0;34m\u001b[0m\u001b[0m\n",
      "\u001b[0;32m/usr/local/lib/python3.8/dist-packages/IPython/core/interactiveshell.py\u001b[0m in \u001b[0;36menable_matplotlib\u001b[0;34m(self, gui)\u001b[0m\n\u001b[1;32m   3503\u001b[0m                 \u001b[0mgui\u001b[0m\u001b[0;34m,\u001b[0m \u001b[0mbackend\u001b[0m \u001b[0;34m=\u001b[0m \u001b[0mpt\u001b[0m\u001b[0;34m.\u001b[0m\u001b[0mfind_gui_and_backend\u001b[0m\u001b[0;34m(\u001b[0m\u001b[0mself\u001b[0m\u001b[0;34m.\u001b[0m\u001b[0mpylab_gui_select\u001b[0m\u001b[0;34m)\u001b[0m\u001b[0;34m\u001b[0m\u001b[0;34m\u001b[0m\u001b[0m\n\u001b[1;32m   3504\u001b[0m \u001b[0;34m\u001b[0m\u001b[0m\n\u001b[0;32m-> 3505\u001b[0;31m         \u001b[0mpt\u001b[0m\u001b[0;34m.\u001b[0m\u001b[0mactivate_matplotlib\u001b[0m\u001b[0;34m(\u001b[0m\u001b[0mbackend\u001b[0m\u001b[0;34m)\u001b[0m\u001b[0;34m\u001b[0m\u001b[0;34m\u001b[0m\u001b[0m\n\u001b[0m\u001b[1;32m   3506\u001b[0m         \u001b[0mpt\u001b[0m\u001b[0;34m.\u001b[0m\u001b[0mconfigure_inline_support\u001b[0m\u001b[0;34m(\u001b[0m\u001b[0mself\u001b[0m\u001b[0;34m,\u001b[0m \u001b[0mbackend\u001b[0m\u001b[0;34m)\u001b[0m\u001b[0;34m\u001b[0m\u001b[0;34m\u001b[0m\u001b[0m\n\u001b[1;32m   3507\u001b[0m \u001b[0;34m\u001b[0m\u001b[0m\n",
      "\u001b[0;32m/usr/local/lib/python3.8/dist-packages/IPython/core/pylabtools.py\u001b[0m in \u001b[0;36mactivate_matplotlib\u001b[0;34m(backend)\u001b[0m\n\u001b[1;32m    320\u001b[0m     \u001b[0;32mfrom\u001b[0m \u001b[0mmatplotlib\u001b[0m \u001b[0;32mimport\u001b[0m \u001b[0mpyplot\u001b[0m \u001b[0;32mas\u001b[0m \u001b[0mplt\u001b[0m\u001b[0;34m\u001b[0m\u001b[0;34m\u001b[0m\u001b[0m\n\u001b[1;32m    321\u001b[0m \u001b[0;34m\u001b[0m\u001b[0m\n\u001b[0;32m--> 322\u001b[0;31m     \u001b[0mplt\u001b[0m\u001b[0;34m.\u001b[0m\u001b[0mswitch_backend\u001b[0m\u001b[0;34m(\u001b[0m\u001b[0mbackend\u001b[0m\u001b[0;34m)\u001b[0m\u001b[0;34m\u001b[0m\u001b[0;34m\u001b[0m\u001b[0m\n\u001b[0m\u001b[1;32m    323\u001b[0m \u001b[0;34m\u001b[0m\u001b[0m\n\u001b[1;32m    324\u001b[0m     \u001b[0mplt\u001b[0m\u001b[0;34m.\u001b[0m\u001b[0mshow\u001b[0m\u001b[0;34m.\u001b[0m\u001b[0m_needmain\u001b[0m \u001b[0;34m=\u001b[0m \u001b[0;32mFalse\u001b[0m\u001b[0;34m\u001b[0m\u001b[0;34m\u001b[0m\u001b[0m\n",
      "\u001b[0;32m/usr/lib/python3/dist-packages/matplotlib/pyplot.py\u001b[0m in \u001b[0;36mswitch_backend\u001b[0;34m(newbackend)\u001b[0m\n\u001b[1;32m    231\u001b[0m         if (current_framework and required_framework\n\u001b[1;32m    232\u001b[0m                 and current_framework != required_framework):\n\u001b[0;32m--> 233\u001b[0;31m             raise ImportError(\n\u001b[0m\u001b[1;32m    234\u001b[0m                 \u001b[0;34m\"Cannot load backend {!r} which requires the {!r} interactive \"\u001b[0m\u001b[0;34m\u001b[0m\u001b[0;34m\u001b[0m\u001b[0m\n\u001b[1;32m    235\u001b[0m                 \"framework, as {!r} is currently running\".format(\n",
      "\u001b[0;31mImportError\u001b[0m: Cannot load backend 'Qt5Agg' which requires the 'qt5' interactive framework, as 'headless' is currently running"
     ]
    }
   ],
   "source": [
    "%matplotlib qt "
   ]
  },
  {
   "cell_type": "code",
   "execution_count": 2,
   "id": "0f4e8e11",
   "metadata": {},
   "outputs": [],
   "source": [
    "from roboticstoolbox import *\n",
    "from spatialmath import *\n",
    "from math import pi\n",
    "import numpy as np"
   ]
  },
  {
   "cell_type": "code",
   "execution_count": 3,
   "id": "d541e4fc",
   "metadata": {},
   "outputs": [],
   "source": [
    "import time\n",
    "from Arm_Lib import Arm_Device"
   ]
  },
  {
   "cell_type": "code",
   "execution_count": 4,
   "id": "af7c75cf",
   "metadata": {},
   "outputs": [],
   "source": [
    "DFbot = DHRobot(\n",
    "    [\n",
    "                    RevoluteMDH(d=0.04145,qlim=np.array([-np.pi/2,np.pi/2])),\n",
    "                    RevoluteMDH(alpha=np.pi/2,qlim=np.array([-np.pi/2,np.pi/2])),\n",
    "                    RevoluteMDH(a=-0.08285,qlim=np.array([-np.pi/2,np.pi/2])),\n",
    "                    RevoluteMDH(a=-0.08285,qlim=np.array([-np.pi/2,np.pi])),\n",
    "                    RevoluteMDH(alpha=-np.pi/2,d=0.11,qlim=np.array([0,np.pi])),  \n",
    " \n",
    "    ],\n",
    "    name=\"DFbot\",\n",
    ")"
   ]
  },
  {
   "cell_type": "code",
   "execution_count": 36,
   "id": "3e750ae2",
   "metadata": {},
   "outputs": [
    {
     "data": {
      "text/plain": [
       "PyPlot3D backend, t = 0.05, scene:\n",
       "  robot: Text(0.022262002239781264, -0.01870892614817926, 'DFbot')"
      ]
     },
     "execution_count": 36,
     "metadata": {},
     "output_type": "execute_result"
    }
   ],
   "source": [
    "DFbot.plot([0,0,0,0,0])"
   ]
  },
  {
   "cell_type": "code",
   "execution_count": 37,
   "id": "5558359b",
   "metadata": {},
   "outputs": [],
   "source": [
    "state0=[0,0,0,0,0]"
   ]
  },
  {
   "cell_type": "code",
   "execution_count": 38,
   "id": "de7abc7a",
   "metadata": {},
   "outputs": [],
   "source": [
    "deg=[x/np.pi*180 for x in state0]"
   ]
  },
  {
   "cell_type": "code",
   "execution_count": 39,
   "id": "8dccbb1a",
   "metadata": {},
   "outputs": [
    {
     "data": {
      "text/plain": [
       "[0.0, 0.0, 0.0, 0.0, 0.0]"
      ]
     },
     "execution_count": 39,
     "metadata": {},
     "output_type": "execute_result"
    }
   ],
   "source": [
    "deg"
   ]
  },
  {
   "cell_type": "code",
   "execution_count": 40,
   "id": "d395a6da",
   "metadata": {},
   "outputs": [],
   "source": [
    "def convert_deg(deg):\n",
    "    d1=deg[0]+90\n",
    "    d2=-deg[1]\n",
    "    d3=90-deg[2]\n",
    "    d4=180-deg[3]\n",
    "    d5=deg[4]+90\n",
    "    return [d1,d2,d3,d4,d5]"
   ]
  },
  {
   "cell_type": "code",
   "execution_count": 41,
   "id": "f345c815",
   "metadata": {},
   "outputs": [],
   "source": [
    "state0_deg=convert_deg(deg)"
   ]
  },
  {
   "cell_type": "code",
   "execution_count": 42,
   "id": "881b8fa0",
   "metadata": {},
   "outputs": [
    {
     "data": {
      "text/plain": [
       "[90.0, -0.0, 90.0, 180.0, 90.0]"
      ]
     },
     "execution_count": 42,
     "metadata": {},
     "output_type": "execute_result"
    }
   ],
   "source": [
    "state0_deg"
   ]
  },
  {
   "cell_type": "code",
   "execution_count": 43,
   "id": "373ec81e",
   "metadata": {},
   "outputs": [],
   "source": [
    "Arm = Arm_Device()\n",
    "time.sleep(1)\n",
    "d_claw=0\n",
    "Arm.Arm_serial_servo_write6(state0_deg[0],state0_deg[1],state0_deg[2],state0_deg[3],state0_deg[4],d_claw, 1500)\n",
    "time.sleep(0.1)"
   ]
  },
  {
   "cell_type": "code",
   "execution_count": null,
   "id": "e2ad98ab",
   "metadata": {},
   "outputs": [],
   "source": []
  },
  {
   "cell_type": "code",
   "execution_count": 44,
   "id": "b415a755",
   "metadata": {},
   "outputs": [],
   "source": [
    "state1=[0,-np.pi/3,0,np.pi,0]"
   ]
  },
  {
   "cell_type": "code",
   "execution_count": 45,
   "id": "7d90e643",
   "metadata": {},
   "outputs": [
    {
     "data": {
      "text/plain": [
       "PyPlot3D backend, t = 0.05, scene:\n",
       "  robot: Text(0.021406576883666772, -0.022729508808562532, 'DFbot')"
      ]
     },
     "execution_count": 45,
     "metadata": {},
     "output_type": "execute_result"
    }
   ],
   "source": [
    "DFbot.plot(state1)"
   ]
  },
  {
   "cell_type": "code",
   "execution_count": 46,
   "id": "ef747743",
   "metadata": {},
   "outputs": [],
   "source": [
    "T1=DFbot.fkine(state1)"
   ]
  },
  {
   "cell_type": "code",
   "execution_count": 47,
   "id": "4b18acb6",
   "metadata": {},
   "outputs": [
    {
     "data": {
      "text/plain": [
       "  -0.5       0        -0.866    -0.1781    \n",
       "   0         1         0         0         \n",
       "   0.866     0        -0.5       0.13      \n",
       "   0         0         0         1         \n"
      ]
     },
     "execution_count": 47,
     "metadata": {},
     "output_type": "execute_result"
    }
   ],
   "source": [
    "T1"
   ]
  },
  {
   "cell_type": "code",
   "execution_count": 48,
   "id": "23aad6cb",
   "metadata": {},
   "outputs": [],
   "source": [
    "deg1=[x/np.pi*180 for x in state1]"
   ]
  },
  {
   "cell_type": "code",
   "execution_count": 49,
   "id": "f0664e90",
   "metadata": {},
   "outputs": [],
   "source": [
    "state1_deg=convert_deg(deg1)"
   ]
  },
  {
   "cell_type": "code",
   "execution_count": 50,
   "id": "9df42efe",
   "metadata": {},
   "outputs": [],
   "source": [
    "Arm = Arm_Device()\n",
    "time.sleep(1)\n",
    "d_claw=0\n",
    "Arm.Arm_serial_servo_write6(state1_deg[0],state1_deg[1],state1_deg[2],state1_deg[3],state0_deg[4],d_claw, 1500)\n",
    "time.sleep(1)"
   ]
  },
  {
   "cell_type": "code",
   "execution_count": null,
   "id": "46e46a0f",
   "metadata": {},
   "outputs": [],
   "source": []
  },
  {
   "cell_type": "code",
   "execution_count": 20,
   "id": "18921be4",
   "metadata": {},
   "outputs": [],
   "source": [
    "T2=np.array(T1)\n",
    "T2[0,-1]=-0.255\n",
    "T2[2,-1]=0.02"
   ]
  },
  {
   "cell_type": "code",
   "execution_count": 21,
   "id": "4d2190f6",
   "metadata": {},
   "outputs": [],
   "source": [
    "sol = DFbot.ikine_LM(T2,q0=[0,0,0,0,0],ilimit=100, slimit=100,joint_limits=True)"
   ]
  },
  {
   "cell_type": "code",
   "execution_count": 22,
   "id": "be0334df",
   "metadata": {},
   "outputs": [
    {
     "data": {
      "text/plain": [
       "IKSolution(q=array([ 0.        , -0.38115342,  0.3482598 ,  2.12728867,  0.        ]), success=True, iterations=8, searches=1, residual=1.7092975388834043e-07, reason='Success')"
      ]
     },
     "execution_count": 22,
     "metadata": {},
     "output_type": "execute_result"
    }
   ],
   "source": [
    "sol"
   ]
  },
  {
   "cell_type": "code",
   "execution_count": 23,
   "id": "ddfcf68d",
   "metadata": {},
   "outputs": [
    {
     "data": {
      "text/plain": [
       "PyPlot3D backend, t = 0.05, scene:\n",
       "  robot: Text(0.03045116852773978, -0.006183012099140179, 'DFbot')"
      ]
     },
     "execution_count": 23,
     "metadata": {},
     "output_type": "execute_result"
    }
   ],
   "source": [
    "DFbot.plot(sol.q)"
   ]
  },
  {
   "cell_type": "code",
   "execution_count": 24,
   "id": "79d69ae1",
   "metadata": {},
   "outputs": [],
   "source": [
    "state2=sol.q"
   ]
  },
  {
   "cell_type": "code",
   "execution_count": 25,
   "id": "79cfcc74",
   "metadata": {},
   "outputs": [],
   "source": [
    "deg2=[x/np.pi*180 for x in state2]"
   ]
  },
  {
   "cell_type": "code",
   "execution_count": 26,
   "id": "721a767e",
   "metadata": {},
   "outputs": [],
   "source": [
    "state2_deg=convert_deg(deg2)"
   ]
  },
  {
   "cell_type": "code",
   "execution_count": 27,
   "id": "6e84bc23",
   "metadata": {},
   "outputs": [],
   "source": [
    "Arm = Arm_Device()\n",
    "time.sleep(1)\n",
    "d_claw=0\n",
    "Arm.Arm_serial_servo_write6(state2_deg[0],state2_deg[1],state2_deg[2],state2_deg[3],state2_deg[4],d_claw, 1500)\n",
    "time.sleep(1)"
   ]
  },
  {
   "cell_type": "code",
   "execution_count": 28,
   "id": "0619fe10",
   "metadata": {},
   "outputs": [],
   "source": [
    "Arm = Arm_Device()\n",
    "time.sleep(1)\n",
    "d_claw=0\n",
    "Arm.Arm_serial_servo_write6(state2_deg[0],state2_deg[1],state2_deg[2],state2_deg[3],state2_deg[4],d_claw, 1500)\n",
    "time.sleep(1)\n",
    "d_claw=180\n",
    "Arm.Arm_serial_servo_write6(state2_deg[0],state2_deg[1],state2_deg[2],state2_deg[3],state2_deg[4],d_claw, 1500)\n",
    "time.sleep(1)\n",
    "d_claw=180\n",
    "Arm.Arm_serial_servo_write6(state2_deg[0],47,state2_deg[2],state2_deg[3],state2_deg[4],d_claw, 1500)\n",
    "time.sleep(0.1)"
   ]
  },
  {
   "cell_type": "code",
   "execution_count": null,
   "id": "9f270f69",
   "metadata": {},
   "outputs": [],
   "source": []
  }
 ],
 "metadata": {
  "kernelspec": {
   "display_name": "Python 3",
   "language": "python",
   "name": "python3"
  },
  "language_info": {
   "codemirror_mode": {
    "name": "ipython",
    "version": 3
   },
   "file_extension": ".py",
   "mimetype": "text/x-python",
   "name": "python",
   "nbconvert_exporter": "python",
   "pygments_lexer": "ipython3",
   "version": "3.8.10"
  }
 },
 "nbformat": 4,
 "nbformat_minor": 5
}
