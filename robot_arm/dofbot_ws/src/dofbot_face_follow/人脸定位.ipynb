{
 "cells": [
  {
   "cell_type": "code",
   "execution_count": 7,
   "id": "b85b32dc",
   "metadata": {},
   "outputs": [],
   "source": [
    "import cv2 as cv\n",
    "import threading\n",
    "from time import sleep\n",
    "import ipywidgets as widgets\n",
    "from IPython.display import display\n",
    "from face_pose import face_follow"
   ]
  },
  {
   "cell_type": "code",
   "execution_count": 8,
   "id": "52e9c127",
   "metadata": {},
   "outputs": [],
   "source": [
    "follow = face_follow()\n",
    "model = 'General'"
   ]
  },
  {
   "cell_type": "code",
   "execution_count": 9,
   "id": "b73c575b",
   "metadata": {},
   "outputs": [],
   "source": [
    "button_layout = widgets.Layout(width='250px', height='50px', align_self='center')\n",
    "output = widgets.Output()\n",
    "# 退出控件 exit button\n",
    "exit_button = widgets.Button(description='Exit', button_style='danger', layout=button_layout)\n",
    "# 图像控件 Image widget\n",
    "imgbox = widgets.Image(format='jpg', height=480, width=640, layout=widgets.Layout(align_self='center'))\n",
    "# 空间布局 spatial distribution\n",
    "controls_box = widgets.VBox([imgbox, exit_button], layout=widgets.Layout(align_self='center'))\n",
    "# ['auto', 'flex-start', 'flex-end', 'center', 'baseline', 'stretch', 'inherit', 'initial', 'un"
   ]
  },
  {
   "cell_type": "code",
   "execution_count": 10,
   "id": "c83e5e42",
   "metadata": {},
   "outputs": [],
   "source": [
    "def exit_button_Callback(value):\n",
    "    global model\n",
    "    model = 'Exit'\n",
    "#     with output: print(model)\n",
    "exit_button.on_click(exit_button_Callback)"
   ]
  },
  {
   "cell_type": "code",
   "execution_count": 11,
   "id": "878dd609",
   "metadata": {},
   "outputs": [],
   "source": [
    "def camera():\n",
    "    global model\n",
    "    # 打开摄像头 Open camera\n",
    "    capture = cv.VideoCapture(0)\n",
    "    while capture.isOpened():\n",
    "        try:\n",
    "            _, img = capture.read()\n",
    "            img = cv.resize(img, (640, 480))\n",
    "            img = follow.follow_function(img)\n",
    "            if model == 'Exit':\n",
    "                cv.destroyAllWindows()\n",
    "                capture.release()\n",
    "                break\n",
    "            imgbox.value = cv.imencode('.jpg', img)[1].tobytes()\n",
    "        except KeyboardInterrupt:capture.release()"
   ]
  },
  {
   "cell_type": "code",
   "execution_count": 12,
   "id": "b80c5d91",
   "metadata": {},
   "outputs": [
    {
     "data": {
      "application/vnd.jupyter.widget-view+json": {
       "model_id": "0ae00339454c40f98807249aa172d59a",
       "version_major": 2,
       "version_minor": 0
      },
      "text/plain": [
       "VBox(children=(Image(value=b'', format='jpg', height='480', layout=\"Layout(align_self='center')\", width='640')…"
      ]
     },
     "metadata": {},
     "output_type": "display_data"
    },
    {
     "data": {
      "application/vnd.jupyter.widget-view+json": {
       "model_id": "948fdbc6bb2d463396783fd8f6c64c60",
       "version_major": 2,
       "version_minor": 0
      },
      "text/plain": [
       "Output()"
      ]
     },
     "metadata": {},
     "output_type": "display_data"
    },
    {
     "name": "stdout",
     "output_type": "stream",
     "text": [
      "x=  104.5\n",
      "y=  234.5\n"
     ]
    }
   ],
   "source": [
    "display(controls_box,output)\n",
    "threading.Thread(target=camera, ).start()"
   ]
  },
  {
   "cell_type": "code",
   "execution_count": null,
   "id": "2ef71025",
   "metadata": {},
   "outputs": [],
   "source": []
  },
  {
   "cell_type": "code",
   "execution_count": null,
   "id": "09874956",
   "metadata": {},
   "outputs": [],
   "source": []
  }
 ],
 "metadata": {
  "kernelspec": {
   "display_name": "Python 3 (ipykernel)",
   "language": "python",
   "name": "python3"
  },
  "language_info": {
   "codemirror_mode": {
    "name": "ipython",
    "version": 3
   },
   "file_extension": ".py",
   "mimetype": "text/x-python",
   "name": "python",
   "nbconvert_exporter": "python",
   "pygments_lexer": "ipython3",
   "version": "3.8.10"
  }
 },
 "nbformat": 4,
 "nbformat_minor": 5
}
